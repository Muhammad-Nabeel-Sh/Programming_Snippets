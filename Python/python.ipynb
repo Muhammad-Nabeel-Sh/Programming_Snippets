{
 "cells": [
  {
   "cell_type": "markdown",
   "source": [
    "# Python Snippets"
   ],
   "metadata": {}
  },
  {
   "cell_type": "markdown",
   "source": [
    "## String Methods"
   ],
   "metadata": {}
  },
  {
   "cell_type": "markdown",
   "source": [
    "| Method | Description |\r\n",
    "| :-------: | :-------------------- |\r\n",
    "|capitalize( ) | Converts the first character to upper case | \r\n",
    " | casefold( ) | Converts string into lower case | \r\n",
    " | center( ) | Returns a centered string | \r\n",
    " | count( ) | Returns the number of times a specified value occurs in a string | \r\n",
    " | encode( ) | Returns an encoded version of the string | \r\n",
    " | endswith( ) | Returns true if the string ends with the specified value | \r\n",
    " | expandtabs( ) | Sets the tab size of the string | \r\n",
    " | find( ) | Searches the string for a specified value and returns the position of where it was found | \r\n",
    " | format( ) | Formats specified values in a string | \r\n",
    " | format_map( ) | Formats specified values in a string | \r\n",
    " | index( ) | Searches the string for a specified value and returns the position of where it was found | \r\n",
    " | isalnum( ) | Returns True if all characters in the string are alphanumeric | \r\n",
    " | isalpha( ) | Returns True if all characters in the string are in the alphabet | \r\n",
    " | isascii( ) | Returns True if all characters in the string are ascii characters | \r\n",
    " | isdecimal( ) | Returns True if all characters in the string are decimals | \r\n",
    " | isdigit( ) | Returns True if all characters in the string are digits | \r\n",
    " | isidentifier( ) | Returns True if the string is an identifier | \r\n",
    " | islower( ) | Returns True if all characters in the string are lower case | \r\n",
    " | isnumeric( ) | Returns True if all characters in the string are numeric | \r\n",
    " | isprintable( ) | Returns True if all characters in the string are printable | \r\n",
    " | isspace( ) | Returns True if all characters in the string are whitespaces | \r\n",
    " | istitle( ) | Returns True if the string follows the rules of a title | \r\n",
    " | isupper( ) | Returns True if all characters in the string are upper case | \r\n",
    " | join( ) | Joins the elements of an iterable to the end of the string | \r\n",
    " | ljust( ) | Returns a left justified version of the string | \r\n",
    " | lower( ) | Converts a string into lower case | \r\n",
    " | lstrip( ) | Returns a left trim version of the string | \r\n",
    " | maketrans( ) | Returns a translation table to be used in translations | \r\n",
    " | partition( ) | Returns a tuple where the string is parted into three parts | \r\n",
    " | replace( ) | Returns a string where a specified value is replaced with a specified value | \r\n",
    " | rfind( ) | Searches the string for a specified value and returns the last position of where it was found | \r\n",
    " | rindex( ) | Searches the string for a specified value and returns the last position of where it was found | \r\n",
    " | rjust( ) | Returns a right justified version of the string | \r\n",
    " | rpartition( ) | Returns a tuple where the string is parted into three parts | \r\n",
    " | rsplit( ) | Splits the string at the specified separator, and returns a list | \r\n",
    " | rstrip( ) | Returns a right trim version of the string | \r\n",
    " | split( ) | Splits the string at the specified separator, and returns a list | \r\n",
    " | splitlines( ) | Splits the string at line breaks and returns a list | \r\n",
    " | startswith( ) | Returns true if the string starts with the specified value | \r\n",
    " | strip( ) | Returns a trimmed version of the string | \r\n",
    " | swapcase( ) | Swaps cases, lower case becomes upper case and vice versa | \r\n",
    " | title( ) | Converts the first character of each word to upper case | \r\n",
    " | translate( ) | Returns a translated string | \r\n",
    " | upper( ) | Converts a string into upper case | \r\n",
    " | zfill( ) | Fills the string with a specified number of 0 values at the beginning|\r\n"
   ],
   "metadata": {}
  },
  {
   "cell_type": "markdown",
   "source": [
    "## List Methods"
   ],
   "metadata": {}
  },
  {
   "cell_type": "markdown",
   "source": [
    "|Method|Description|\r\n",
    "|:---: |:--- |\r\n",
    "|append()|Adds an element at the end of the list|\r\n",
    "|clear()|Removes all the elements from the list|\r\n",
    "|copy()|Returns a copy of the list|\r\n",
    "|count()|Returns the number of elements with the specified value|\r\n",
    "|extend()|Add the elements of a list (or any iterable), to the end of the current list|\r\n",
    "|index()|Returns the index of the first element with the specified value|\r\n",
    "|insert()|Adds an element at the specified position|\r\n",
    "|pop()|Removes the element at the specified position|\r\n",
    "|remove()|Removes the first item with the specified value|\r\n",
    "|reverse()|Reverses the order of the list|\r\n",
    "|sort()|Sorts the list|"
   ],
   "metadata": {}
  },
  {
   "cell_type": "code",
   "execution_count": 10,
   "source": [
    "planets = [] #empty list\r\n",
    "planets = ['Mercury', 'Venus', 'Earth', 'Mars', 'Jupiter', 'Saturn', 'Uranus', 'Neptune']\r\n",
    "print(planets[0])\r\n",
    "print(planets[0:3])\r\n",
    "print(planets[:3])\r\n",
    "print(planets[3:])\r\n",
    "print(planets[-1])\r\n",
    "print(planets[:-3])\r\n",
    "print(planets[-3:])\r\n",
    "print(len(planets))\r\n",
    "print(sorted(planets))"
   ],
   "outputs": [
    {
     "output_type": "stream",
     "name": "stdout",
     "text": [
      "Mercury\n",
      "['Mercury', 'Venus', 'Earth']\n",
      "['Mercury', 'Venus', 'Earth']\n",
      "['Mars', 'Jupiter', 'Saturn', 'Uranus', 'Neptune']\n",
      "Neptune\n",
      "['Mercury', 'Venus', 'Earth', 'Mars', 'Jupiter']\n",
      "['Saturn', 'Uranus', 'Neptune']\n",
      "8\n",
      "['Earth', 'Jupiter', 'Mars', 'Mercury', 'Neptune', 'Saturn', 'Uranus', 'Venus']\n"
     ]
    }
   ],
   "metadata": {}
  },
  {
   "cell_type": "markdown",
   "source": [
    "## Tuple Methods"
   ],
   "metadata": {}
  },
  {
   "cell_type": "markdown",
   "source": [],
   "metadata": {}
  },
  {
   "cell_type": "markdown",
   "source": [
    "## Dictionary Methods"
   ],
   "metadata": {}
  },
  {
   "cell_type": "markdown",
   "source": [],
   "metadata": {}
  }
 ],
 "metadata": {
  "orig_nbformat": 4,
  "language_info": {
   "name": "python",
   "version": "3.9.7",
   "mimetype": "text/x-python",
   "codemirror_mode": {
    "name": "ipython",
    "version": 3
   },
   "pygments_lexer": "ipython3",
   "nbconvert_exporter": "python",
   "file_extension": ".py"
  },
  "kernelspec": {
   "name": "python3",
   "display_name": "Python 3.9.7 64-bit"
  },
  "interpreter": {
   "hash": "ac59ebe37160ed0dfa835113d9b8498d9f09ceb179beaac4002f036b9467c963"
  }
 },
 "nbformat": 4,
 "nbformat_minor": 2
}