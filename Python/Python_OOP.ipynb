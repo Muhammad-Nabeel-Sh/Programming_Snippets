{
 "cells": [
  {
   "cell_type": "markdown",
   "source": [
    "# Python OOP\r\n",
    "## Creating a Class and Object in Python"
   ],
   "metadata": {}
  },
  {
   "cell_type": "code",
   "execution_count": 2,
   "source": [
    "class Parrot:\r\n",
    "    # class attribute\r\n",
    "    species = 'bird'\r\n",
    "\r\n",
    "    # instance attribute\r\n",
    "    def __init__(self,name,age):\r\n",
    "        self.name = name\r\n",
    "        self.age = age\r\n",
    "\r\n",
    "# instantiate the Parrot class\r\n",
    "blu = Parrot('Blu', 10)\r\n",
    "woo = Parrot('Woo', 15)\r\n",
    "\r\n",
    "# access the class attributes\r\n",
    "print(\"Blu is a {}\".format(blu.__class__.species))\r\n",
    "print(\"Woo is also a {}\".format(woo.__class__.species))\r\n",
    "\r\n",
    "# access the instance attributes\r\n",
    "print(\"{} is {}\".format(blu.name, blu.age))\r\n",
    "print(f\"{woo.name} is {woo.age}\")"
   ],
   "outputs": [
    {
     "output_type": "stream",
     "name": "stdout",
     "text": [
      "Blu is a bird\n",
      "Woo is also a bird\n",
      "Blu is 10\n",
      "Woo is 15\n"
     ]
    }
   ],
   "metadata": {}
  },
  {
   "cell_type": "markdown",
   "source": [
    "___"
   ],
   "metadata": {}
  },
  {
   "cell_type": "markdown",
   "source": [
    "## Creating Methods in Python"
   ],
   "metadata": {}
  },
  {
   "cell_type": "code",
   "execution_count": 4,
   "source": [
    "class Parrot:\r\n",
    "    # instance attributes\r\n",
    "    def __init__(self, name, age):\r\n",
    "        self.name = name\r\n",
    "        self.age = age\r\n",
    "\r\n",
    "    # instance method\r\n",
    "    def sing(self,song):\r\n",
    "        return f\"{self.name} sings {song}\"\r\n",
    "\r\n",
    "    def dance(self):\r\n",
    "        return \"{} is now dancing\".format(self.name)\r\n",
    "\r\n",
    "# instantiate the object\r\n",
    "blu = Parrot(\"Blu\",10)\r\n",
    "\r\n",
    "# call instance methods\r\n",
    "print(blu.sing(\"'Happy'\"))\r\n",
    "print(blu.dance())"
   ],
   "outputs": [
    {
     "output_type": "stream",
     "name": "stdout",
     "text": [
      "Blu sings 'Happy'\n",
      "Blu is now dancing\n"
     ]
    }
   ],
   "metadata": {}
  },
  {
   "cell_type": "markdown",
   "source": [
    "---"
   ],
   "metadata": {}
  },
  {
   "cell_type": "markdown",
   "source": [
    "## Use of Inheritance in Python"
   ],
   "metadata": {}
  },
  {
   "cell_type": "code",
   "execution_count": 5,
   "source": [
    "# parent/base class\r\n",
    "class Bird:\r\n",
    "    \r\n",
    "    def __init__(self):\r\n",
    "        print(\"Bird is ready\")\r\n",
    "\r\n",
    "    def whoisThis(self):\r\n",
    "        print(\"Bird\")\r\n",
    "\r\n",
    "    def swim(self):\r\n",
    "        print(\"Swim faster\")\r\n",
    "\r\n",
    "# child/derived class\r\n",
    "class Penguin(Bird):\r\n",
    "\r\n",
    "    def __init__(self):\r\n",
    "        # call super() function\r\n",
    "        super().__init__()\r\n",
    "        print(\"Penguin is ready\")\r\n",
    "\r\n",
    "    def whoisThis(self):\r\n",
    "        print(\"Penguin\")\r\n",
    "\r\n",
    "    def run(self):\r\n",
    "        print(\"Run faster\")\r\n",
    "\r\n",
    "peggy = Penguin()\r\n",
    "peggy.whoisThis()\r\n",
    "peggy.swim()\r\n",
    "peggy.run()"
   ],
   "outputs": [
    {
     "output_type": "stream",
     "name": "stdout",
     "text": [
      "Bird is ready\n",
      "Penguin is ready\n",
      "Penguin\n",
      "Swim faster\n",
      "Run faster\n"
     ]
    }
   ],
   "metadata": {}
  }
 ],
 "metadata": {
  "orig_nbformat": 4,
  "language_info": {
   "name": "python",
   "version": "3.9.2",
   "mimetype": "text/x-python",
   "codemirror_mode": {
    "name": "ipython",
    "version": 3
   },
   "pygments_lexer": "ipython3",
   "nbconvert_exporter": "python",
   "file_extension": ".py"
  },
  "kernelspec": {
   "name": "python3",
   "display_name": "Python 3.9.2 64-bit"
  },
  "interpreter": {
   "hash": "ac59ebe37160ed0dfa835113d9b8498d9f09ceb179beaac4002f036b9467c963"
  }
 },
 "nbformat": 4,
 "nbformat_minor": 2
}