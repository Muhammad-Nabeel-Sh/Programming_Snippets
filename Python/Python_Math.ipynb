{
 "cells": [
  {
   "cell_type": "markdown",
   "source": [
    "# Python Math Module\r\n",
    "This module provides access to the mathematical functions defined by the C standard.  \r\n",
    "Refer to `cmath` module when dealing with complex numbers"
   ],
   "metadata": {}
  },
  {
   "cell_type": "markdown",
   "source": [
    "## Mathematical Constants"
   ],
   "metadata": {}
  },
  {
   "cell_type": "code",
   "execution_count": 2,
   "source": [
    "import math\r\n",
    "print(math.e, math.pi, math.tau, math.inf, math.nan, sep=\"\\n\")"
   ],
   "outputs": [
    {
     "output_type": "stream",
     "name": "stdout",
     "text": [
      "2.718281828459045\n",
      "3.141592653589793\n",
      "6.283185307179586\n",
      "inf\n",
      "nan\n"
     ]
    }
   ],
   "metadata": {}
  },
  {
   "cell_type": "markdown",
   "source": [
    "## Number Theory"
   ],
   "metadata": {}
  },
  {
   "cell_type": "markdown",
   "source": [
    "- **Floor function** is the function that takes as input a real number x, and gives as output the greatest integer less than or equal to x, denoted floor(x) or ⌊x⌋. \r\n",
    "- **Ceiling function** maps x to the least integer greater than or equal to x, denoted ceil(x)or ⌈x⌉.\r\n",
    "- **Truncation** is limiting the number of digits right of the decimal point. \r\n",
    "- **Absolute value** or **Modulus** of a real number x, denoted |x|, is the non-negative value of x without regard to its sign.\r\n",
    "- **modf** returns the fractional and integer parts of x"
   ],
   "metadata": {}
  },
  {
   "cell_type": "code",
   "execution_count": 12,
   "source": [
    "x = -15.359\r\n",
    "print(math.ceil(x))\r\n",
    "print(math.floor(x))\r\n",
    "print(math.fabs(x))\r\n",
    "print(math.trunc(x))\r\n",
    "print(math.modf(x))"
   ],
   "outputs": [
    {
     "output_type": "stream",
     "name": "stdout",
     "text": [
      "-15\n",
      "-16\n",
      "15.359\n",
      "-15\n",
      "(-0.359, -15.0)\n"
     ]
    }
   ],
   "metadata": {}
  },
  {
   "cell_type": "markdown",
   "source": [
    "- **Greatest common factor (GCF or GCD or HCF)** of a set of whole numbers is the largest positive integer that divides evenly into all numbers with zero remainder. \r\n",
    "- **Least Common Multiple (LCM)** is also referred to as the **Lowest Common Multiple (LCM)** and **Least Common Divisor (LCD)**. For two integers a and b, denoted LCM(a,b), the LCM is the smallest positive integer that is evenly divisible by both a and b. "
   ],
   "metadata": {}
  },
  {
   "cell_type": "code",
   "execution_count": 4,
   "source": [
    "print(math.gcd(36,48,240))\r\n",
    "print(math.lcm(5,6,7))"
   ],
   "outputs": [
    {
     "output_type": "stream",
     "name": "stdout",
     "text": [
      "12\n",
      "210\n"
     ]
    }
   ],
   "metadata": {}
  },
  {
   "cell_type": "markdown",
   "source": [
    "### Combinatorics  \r\n",
    "- **Permutation** relates to the act of arranging all the members of a set into some sequence or order.  \r\n",
    "$$^n P_r  = \\frac{n!}{(n-r)!}$$\r\n",
    "- **Combination** is a way of selecting items from a collection, such that (unlike permutations) the order of selection does not matter.  \r\n",
    "$$^n C_r  = \\binom{n}{r} = \\frac{^n P_r}{r!} = \\frac{n!}{r!(n-r)!}$$"
   ],
   "metadata": {}
  },
  {
   "cell_type": "code",
   "execution_count": 3,
   "source": [
    "print(math.perm(20,5))\r\n",
    "print(math.comb(20,5))"
   ],
   "outputs": [
    {
     "output_type": "stream",
     "name": "stdout",
     "text": [
      "1860480\n",
      "15504\n"
     ]
    }
   ],
   "metadata": {}
  },
  {
   "cell_type": "markdown",
   "source": [
    "## Defining Custom Functions\r\n",
    "**Python docstring** is a string used to document a Python module, class, function or method, so programmers can understand what it does without having to read the details of the implementation."
   ],
   "metadata": {}
  },
  {
   "cell_type": "code",
   "execution_count": 1,
   "source": [
    "def least_difference(a,b,c):\r\n",
    "    \"\"\"Return the smallest difference between any two numbers\r\n",
    "    among a , b and c.\r\n",
    "    >>>least_difference(1,5,-5)\r\n",
    "    4\r\n",
    "    \"\"\"\r\n",
    "    diff1 = abs(a - b)\r\n",
    "    diff2 = abs(b - c)\r\n",
    "    diff3 = abs(a - c)\r\n",
    "    return min(diff1,diff2,diff3)"
   ],
   "outputs": [],
   "metadata": {}
  },
  {
   "cell_type": "code",
   "execution_count": 2,
   "source": [
    "help(least_difference)"
   ],
   "outputs": [
    {
     "output_type": "stream",
     "name": "stdout",
     "text": [
      "Help on function least_difference in module __main__:\n",
      "\n",
      "least_difference(a, b, c)\n",
      "    Return the smallest difference between any two numbers\n",
      "    among a , b and c.\n",
      "    >>>least_difference(1,5,-5)\n",
      "    4\n",
      "\n"
     ]
    }
   ],
   "metadata": {}
  },
  {
   "cell_type": "markdown",
   "source": [
    "## Python mpmath module"
   ],
   "metadata": {}
  },
  {
   "cell_type": "markdown",
   "source": [
    "## Mathematical Constants"
   ],
   "metadata": {}
  },
  {
   "cell_type": "code",
   "execution_count": 9,
   "source": [
    "from mpmath import *\r\n",
    "mp.dps = 15 ; mp.pretty = True\r\n",
    "print(mp.pi, mp.e, mp.degree, mp.phi, mp.euler, sep=\"\\n\")"
   ],
   "outputs": [
    {
     "output_type": "stream",
     "name": "stdout",
     "text": [
      "3.14159265358979\n",
      "2.71828182845905\n",
      "0.0174532925199433\n",
      "1.61803398874989\n",
      "0.577215664901533\n"
     ]
    }
   ],
   "metadata": {}
  },
  {
   "cell_type": "markdown",
   "source": [
    "## Extra Trigonometry"
   ],
   "metadata": {}
  },
  {
   "cell_type": "code",
   "execution_count": 20,
   "source": [
    "print(\r\n",
    "mp.degrees(mp.pi/3),\r\n",
    "mp.radians(145),\r\n",
    "sep= \"\\n\" )"
   ],
   "outputs": [
    {
     "output_type": "stream",
     "name": "stdout",
     "text": [
      "60.0\n",
      "2.53072741539178\n"
     ]
    }
   ],
   "metadata": {}
  },
  {
   "cell_type": "code",
   "execution_count": 21,
   "source": [
    "help(degrees)"
   ],
   "outputs": [
    {
     "output_type": "stream",
     "name": "stdout",
     "text": [
      "Help on method degrees in module mpmath.functions.functions:\n",
      "\n",
      "degrees(x) method of mpmath.ctx_mp.MPContext instance\n",
      "    Converts the radian angle `x` to a degree angle::\n",
      "    \n",
      "        >>> from mpmath import *\n",
      "        >>> mp.dps = 15; mp.pretty = True\n",
      "        >>> degrees(pi/3)\n",
      "        60.0\n",
      "\n"
     ]
    }
   ],
   "metadata": {}
  },
  {
   "cell_type": "code",
   "execution_count": null,
   "source": [],
   "outputs": [],
   "metadata": {}
  }
 ],
 "metadata": {
  "orig_nbformat": 4,
  "language_info": {
   "name": "python",
   "version": "3.9.7",
   "mimetype": "text/x-python",
   "codemirror_mode": {
    "name": "ipython",
    "version": 3
   },
   "pygments_lexer": "ipython3",
   "nbconvert_exporter": "python",
   "file_extension": ".py"
  },
  "kernelspec": {
   "name": "python3",
   "display_name": "Python 3.9.7 64-bit"
  },
  "interpreter": {
   "hash": "ac59ebe37160ed0dfa835113d9b8498d9f09ceb179beaac4002f036b9467c963"
  }
 },
 "nbformat": 4,
 "nbformat_minor": 2
}