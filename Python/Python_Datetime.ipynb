{
 "cells": [
  {
   "cell_type": "markdown",
   "source": [
    "# Python Dates\r\n",
    "## Importing datetime module"
   ],
   "metadata": {}
  },
  {
   "cell_type": "code",
   "execution_count": 1,
   "source": [
    "import datetime\r\n",
    "date_object = datetime.datetime.now()\r\n",
    "print(date_object)"
   ],
   "outputs": [
    {
     "output_type": "stream",
     "name": "stdout",
     "text": [
      "2021-08-10 16:23:19.819273\n"
     ]
    }
   ],
   "metadata": {}
  },
  {
   "cell_type": "markdown",
   "source": [
    "## Creating Date Objects\r\n",
    "To create a date, we can use the datetime() class (constructor) of the datetime module.\r\n",
    "\r\n",
    "The datetime() class **requires** three parameters to create a date: year, month, day.\r\n",
    "\r\n",
    "The datetime() class also takes parameters for time and timezone (hour, minute, second, microsecond, tzone), but they are optional, and has a default value of 0, (None for timezone)."
   ],
   "metadata": {}
  },
  {
   "cell_type": "code",
   "execution_count": 2,
   "source": [
    "import datetime\r\n",
    "x = datetime.datetime(2021,8,18)\r\n",
    "print(x)"
   ],
   "outputs": [
    {
     "output_type": "stream",
     "name": "stdout",
     "text": [
      "2021-08-18 00:00:00\n"
     ]
    }
   ],
   "metadata": {}
  },
  {
   "cell_type": "markdown",
   "source": [
    "## String Format Time\r\n",
    "The datetime object has a method for formatting date objects into readable strings.\r\n",
    "\r\n",
    "The method is called strftime(), and takes one parameter, format, to specify the format of the returned string"
   ],
   "metadata": {}
  },
  {
   "cell_type": "markdown",
   "source": [
    "|Directive|Description|Example|\r\n",
    "|:---:|:---:|:---:|\r\n",
    "|%a|Weekday, short version|Wed|\r\n",
    "|%A|Weekday, full version|Wednesday|\r\n",
    "|%w|Weekday as a number 0-6, 0 is Sunday|3|\r\n",
    "|%d|Day of month 01-31|31|\r\n",
    "|%b|Month name, short version|Dec|\r\n",
    "|%B|Month name, full version|December|\r\n",
    "|%m|Month as a number 01-12|12|\r\n",
    "|%y|Year, short version, without century|18|\r\n",
    "|%Y|Year, full version|2018|\r\n",
    "|%H|Hour 00-23|17|\r\n",
    "|%I|Hour 00-12|05|\r\n",
    "|%p|AM/PM|PM|\r\n",
    "|%M|Minute 00-59|41|\r\n",
    "|%S|Second 00-59|08|\r\n",
    "|%f|Microsecond 000000-999999|548513|\r\n",
    "|%z|UTC offset|+0100||\r\n",
    "|%Z|Timezone|CST||\r\n",
    "|%j|Day number of year 001-366|365|\r\n",
    "|%U|Week number of year, Sunday as the first day of week, 00-53|52|\r\n",
    "|%W|Week number of year, Monday as the first day of week, 00-53|52|\r\n",
    "|%c|Local version of date and time|Mon Dec 31 17:41:00 2018|\r\n",
    "|%C|Century|20|\r\n",
    "|%x|Local version of date|12/31/18|\r\n",
    "|%X|Local version of time|17:41:00|\r\n",
    "|%%|A % character|%|\r\n",
    "|%G|ISO 8601 year|2018|\r\n",
    "|%u|ISO 8601 weekday (1-7)|1|\r\n",
    "|%V|ISO 8601 weeknumber (01-53)|01|"
   ],
   "metadata": {}
  },
  {
   "cell_type": "code",
   "execution_count": 10,
   "source": [
    "from datetime import datetime\r\n",
    "x = datetime(1999,8,6)\r\n",
    "print(x.strftime(\"%A, %d %B %Y\"))\r\n",
    "date = datetime.strptime(\"2020-01-20\", \"%Y-%m-%d\")\r\n",
    "print(date)\r\n",
    "date = datetime.strptime(\"20 January 2020\", \"%d %B %Y\")\r\n",
    "print(date)"
   ],
   "outputs": [
    {
     "output_type": "stream",
     "name": "stdout",
     "text": [
      "Friday, 06 August 1999\n",
      "2020-01-20 00:00:00\n",
      "2020-01-20 00:00:00\n"
     ]
    }
   ],
   "metadata": {}
  },
  {
   "cell_type": "markdown",
   "source": [
    "## String Parse Time\r\n",
    "Python time method `strptime()` parses a string representing a time according to a format. The return value is a struct_time as returned by `gmtime()` or `localtime()`.\r\n",
    "### Syntax\r\n",
    "```python\r\n",
    "    time.strptime(string[, format])\r\n",
    "```\r\n",
    "### String to Date Object"
   ],
   "metadata": {}
  },
  {
   "cell_type": "code",
   "execution_count": 13,
   "source": [
    "from datetime import datetime\r\n",
    "date_str = '09-19-2018'\r\n",
    "date_object = datetime.strptime(date_str, '%m-%d-%Y').date()\r\n",
    "print(type(date_object))\r\n",
    "print(date_object) "
   ],
   "outputs": [
    {
     "output_type": "stream",
     "name": "stdout",
     "text": [
      "<class 'datetime.date'>\n",
      "2018-09-19\n"
     ]
    }
   ],
   "metadata": {}
  },
  {
   "cell_type": "code",
   "execution_count": 14,
   "source": [
    "from datetime import datetime\r\n",
    "time_str = '13::55::26'\r\n",
    "time_object = datetime.strptime(time_str, '%H::%M::%S').time()\r\n",
    "print(type(time_object))\r\n",
    "print(time_object)"
   ],
   "outputs": [
    {
     "output_type": "stream",
     "name": "stdout",
     "text": [
      "<class 'datetime.time'>\n",
      "13:55:26\n"
     ]
    }
   ],
   "metadata": {}
  },
  {
   "cell_type": "markdown",
   "source": [
    "## Python strptime() ValueError Example\r\n",
    "We can use `try-except` block to catch parsing exception and perform corrective actions."
   ],
   "metadata": {}
  },
  {
   "cell_type": "code",
   "execution_count": 24,
   "source": [
    "import datetime\r\n",
    "print(datetime.now())"
   ],
   "outputs": [],
   "metadata": {}
  },
  {
   "cell_type": "code",
   "execution_count": null,
   "source": [],
   "outputs": [],
   "metadata": {}
  }
 ],
 "metadata": {
  "orig_nbformat": 4,
  "language_info": {
   "name": "plaintext"
  }
 },
 "nbformat": 4,
 "nbformat_minor": 2
}